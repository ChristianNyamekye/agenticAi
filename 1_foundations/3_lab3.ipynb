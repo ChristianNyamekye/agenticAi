{
 "cells": [
  {
   "cell_type": "markdown",
   "metadata": {},
   "source": [
    "## Welcome to Lab 3 for Week 1 Day 4\n",
    "\n",
    "Today we're going to build something with immediate value!\n",
    "\n",
    "In the folder `me` I've put a single file `linkedin.pdf` - it's a PDF download of my LinkedIn profile.\n",
    "\n",
    "Please replace it with yours!\n",
    "\n",
    "I've also made a file called `summary.txt`\n",
    "\n",
    "We're not going to use Tools just yet - we're going to add the tool tomorrow."
   ]
  },
  {
   "cell_type": "markdown",
   "metadata": {},
   "source": [
    "<table style=\"margin: 0; text-align: left; width:100%\">\n",
    "    <tr>\n",
    "        <td style=\"width: 150px; height: 150px; vertical-align: middle;\">\n",
    "            <img src=\"../assets/tools.png\" width=\"150\" height=\"150\" style=\"display: block;\" />\n",
    "        </td>\n",
    "        <td>\n",
    "            <h2 style=\"color:#00bfff;\">Looking up packages</h2>\n",
    "            <span style=\"color:#00bfff;\">In this lab, we're going to use the wonderful Gradio package for building quick UIs, \n",
    "            and we're also going to use the popular PyPDF PDF reader. You can get guides to these packages by asking \n",
    "            ChatGPT or Claude, and you find all open-source packages on the repository <a href=\"https://pypi.org\">https://pypi.org</a>.\n",
    "            </span>\n",
    "        </td>\n",
    "    </tr>\n",
    "</table>"
   ]
  },
  {
   "cell_type": "code",
   "execution_count": 1,
   "metadata": {},
   "outputs": [],
   "source": [
    "# If you don't know what any of these packages do - you can always ask ChatGPT for a guide!\n",
    "\n",
    "from dotenv import load_dotenv\n",
    "from openai import OpenAI\n",
    "from pypdf import PdfReader\n",
    "import gradio as gr"
   ]
  },
  {
   "cell_type": "code",
   "execution_count": 13,
   "metadata": {},
   "outputs": [],
   "source": [
    "load_dotenv(override=True)\n",
    "openai = OpenAI()"
   ]
  },
  {
   "cell_type": "code",
   "execution_count": 3,
   "metadata": {},
   "outputs": [],
   "source": [
    "reader = PdfReader(\"me/linkedin.pdf\")\n",
    "linkedin = \"\"\n",
    "for page in reader.pages:\n",
    "    text = page.extract_text()\n",
    "    if text:\n",
    "        linkedin += text"
   ]
  },
  {
   "cell_type": "code",
   "execution_count": 4,
   "metadata": {},
   "outputs": [
    {
     "name": "stdout",
     "output_type": "stream",
     "text": [
      "   \n",
      "Contact\n",
      "christiankingnyamekye@gmail\n",
      ".com\n",
      "www.linkedin.com/in/christian-k-\n",
      "nyamekye (LinkedIn)\n",
      "Top Skills\n",
      "Full-Stack Development\n",
      "JavaScript\n",
      "React.js\n",
      "Certifications\n",
      "Advanced Technical Interview Prep\n",
      "2024 Possibilities Summit\n",
      "Christian Nyamekye\n",
      "engineering & cs @ Dartmouth\n",
      "Hanover, New Hampshire, United States\n",
      "Summary\n",
      "Christian enjoys building innovations at the intersection of AI,\n",
      "accessibility, and human-computer interaction.\n",
      "https://github.com/ChristianNyamekye\n",
      "Experience\n",
      "BASTA\n",
      "Software Engineering Program\n",
      "September 2025 - Present (1 month)\n",
      "DALI Lab\n",
      "Software Developer | Coulter Scholar\n",
      "September 2024 - Present (1 year 1 month)\n",
      "Hanover, New Hampshire, United States\n",
      "Gaze-Aware Reading Aid for the Browser (GARB)\n",
      "Dartmouth Computer Science Department\n",
      "2 years 1 month\n",
      "Teaching Assistant\n",
      "March 2025 - Present (7 months)\n",
      "CS 052: FullStack Web Development\n",
      "Teaching Assistant\n",
      "September 2023 - March 2025 (1 year 7 months)\n",
      "CS 010: Object-Oriented Programming (DSA)\n",
      "Magnuson Center for Entrepreneurship at Dartmouth\n",
      "Makerspace Teaching Assistant\n",
      "January 2023 - Present (2 years 9 months)\n",
      "Hanover, New Hampshire, United States\n",
      "Salesforce\n",
      "Software Engineer\n",
      "  Page 1 of 3   \n",
      "March 2025 - September 2025 (7 months)\n",
      "San Francisco Bay Area\n",
      "Anypoint Code Builder @ MuleSoft\n",
      "buildspace\n",
      "Full Stack Developer\n",
      "June 2024 - August 2024 (3 months)\n",
      "nights and weekends, S5\n",
      "https://echecsai.vercel.app/chessgame/\n",
      "Thayer School of Engineering at Dartmouth\n",
      "1 year 5 months\n",
      "UGAR Research Scholar\n",
      "January 2024 - March 2024 (3 months)\n",
      "Hanover, New Hampshire, United States\n",
      "Research Assistant\n",
      "November 2022 - January 2024 (1 year 3 months)\n",
      "Hanover, New Hampshire, United States\n",
      "https://mollymorin.com/knitlab/\n",
      "IBM\n",
      "Qiskit GSS Lab Student\n",
      "July 2023 - August 2023 (2 months)\n",
      "Dartmouth College\n",
      "Endowment Fellow\n",
      "July 2023 - August 2023 (2 months)\n",
      "Hanover, New Hampshire, United States\n",
      "Investment Office\n",
      "CodePath\n",
      "SDE Student\n",
      "June 2023 - June 2023 (1 month)\n",
      "Young Achievers Foundation Ghana\n",
      "Program Specialist\n",
      "June 2021 - July 2022 (1 year 2 months)\n",
      "Kumasi, Ashanti, Ghana\n",
      "  Page 2 of 3   \n",
      "Education\n",
      "Thayer School of Engineering at Dartmouth\n",
      "Bachelor of Engineering - BE  · (September 2024 - June 2026)\n",
      "Dartmouth College\n",
      "Bachelor's degree, Engineering · (September 2022 - January 2026)\n",
      "The Chinese University of Hong Kong\n",
      "Bachelor's degree  · (August 2024 - December 2024)\n",
      "Opoku Ware School\n",
      "West African Senior School Certificate  · (October 2016 - June 2019)\n",
      "Saint Lwanga Junior High School\n",
      "Basic Education Certificate   · (September 2013 - June 2016)\n",
      "  Page 3 of 3\n"
     ]
    }
   ],
   "source": [
    "print(linkedin)"
   ]
  },
  {
   "cell_type": "code",
   "execution_count": 5,
   "metadata": {},
   "outputs": [],
   "source": [
    "with open(\"me/summary.txt\", \"r\", encoding=\"utf-8\") as f:\n",
    "    summary = f.read()"
   ]
  },
  {
   "cell_type": "code",
   "execution_count": 6,
   "metadata": {},
   "outputs": [],
   "source": [
    "name = \"Christian\""
   ]
  },
  {
   "cell_type": "code",
   "execution_count": 7,
   "metadata": {},
   "outputs": [],
   "source": [
    "system_prompt = f\"You are acting as {name}. You are answering questions on {name}'s website, \\\n",
    "particularly questions related to {name}'s career, background, skills and experience. \\\n",
    "Your responsibility is to represent {name} for interactions on the website as faithfully as possible. \\\n",
    "You are given a summary of {name}'s background and LinkedIn profile which you can use to answer questions. \\\n",
    "Be professional and engaging, as if talking to a potential client or future employer who came across the website. \\\n",
    "If you don't know the answer, say so.\"\n",
    "\n",
    "system_prompt += f\"\\n\\n## Summary:\\n{summary}\\n\\n## LinkedIn Profile:\\n{linkedin}\\n\\n\"\n",
    "system_prompt += f\"With this context, please chat with the user, always staying in character as {name}.\"\n"
   ]
  },
  {
   "cell_type": "code",
   "execution_count": 8,
   "metadata": {},
   "outputs": [
    {
     "data": {
      "text/plain": [
       "\"You are acting as Christian. You are answering questions on Christian's website, particularly questions related to Christian's career, background, skills and experience. Your responsibility is to represent Christian for interactions on the website as faithfully as possible. You are given a summary of Christian's background and LinkedIn profile which you can use to answer questions. Be professional and engaging, as if talking to a potential client or future employer who came across the website. If you don't know the answer, say so.\\n\\n## Summary:\\nMy name is Christian Nyamekye. I’m a software engineer, entrepreneur, and maker. I grew up in Ghana and now study Computer Science at Dartmouth, where I’ve been building projects that merge accessibility, AI, and design. \\nI love anime and engineering quirks—often seeing connections between the two—and I’m always tinkering with side projects, whether it’s building assistive tech like GARB or experimenting with new startup ideas. \\nI also have a soft spot for exploring food markets (Stanley Market in Hong Kong was a favorite), though I’m still working on acquiring a taste for overly spicy food.\\n\\n## LinkedIn Profile:\\n\\xa0 \\xa0\\nContact\\nchristiankingnyamekye@gmail\\n.com\\nwww.linkedin.com/in/christian-k-\\nnyamekye (LinkedIn)\\nTop Skills\\nFull-Stack Development\\nJavaScript\\nReact.js\\nCertifications\\nAdvanced Technical Interview Prep\\n2024 Possibilities Summit\\nChristian Nyamekye\\nengineering & cs @ Dartmouth\\nHanover, New Hampshire, United States\\nSummary\\nChristian enjoys building innovations at the intersection of AI,\\naccessibility, and human-computer interaction.\\nhttps://github.com/ChristianNyamekye\\nExperience\\nBASTA\\nSoftware Engineering Program\\nSeptember 2025\\xa0-\\xa0Present\\xa0(1 month)\\nDALI Lab\\nSoftware Developer | Coulter Scholar\\nSeptember 2024\\xa0-\\xa0Present\\xa0(1 year 1 month)\\nHanover, New Hampshire, United States\\nGaze-Aware Reading Aid for the Browser (GARB)\\nDartmouth Computer Science Department\\n2 years 1 month\\nTeaching Assistant\\nMarch 2025\\xa0-\\xa0Present\\xa0(7 months)\\nCS 052: FullStack Web Development\\nTeaching Assistant\\nSeptember 2023\\xa0-\\xa0March 2025\\xa0(1 year 7 months)\\nCS 010: Object-Oriented Programming (DSA)\\nMagnuson Center for Entrepreneurship at Dartmouth\\nMakerspace Teaching Assistant\\nJanuary 2023\\xa0-\\xa0Present\\xa0(2 years 9 months)\\nHanover, New Hampshire, United States\\nSalesforce\\nSoftware Engineer\\n\\xa0 Page 1 of 3\\xa0 \\xa0\\nMarch 2025\\xa0-\\xa0September 2025\\xa0(7 months)\\nSan Francisco Bay Area\\nAnypoint Code Builder @ MuleSoft\\nbuildspace\\nFull Stack Developer\\nJune 2024\\xa0-\\xa0August 2024\\xa0(3 months)\\nnights and weekends, S5\\nhttps://echecsai.vercel.app/chessgame/\\nThayer School of Engineering at Dartmouth\\n1 year 5 months\\nUGAR Research Scholar\\nJanuary 2024\\xa0-\\xa0March 2024\\xa0(3 months)\\nHanover, New Hampshire, United States\\nResearch Assistant\\nNovember 2022\\xa0-\\xa0January 2024\\xa0(1 year 3 months)\\nHanover, New Hampshire, United States\\nhttps://mollymorin.com/knitlab/\\nIBM\\nQiskit GSS Lab Student\\nJuly 2023\\xa0-\\xa0August 2023\\xa0(2 months)\\nDartmouth College\\nEndowment Fellow\\nJuly 2023\\xa0-\\xa0August 2023\\xa0(2 months)\\nHanover, New Hampshire, United States\\nInvestment Office\\nCodePath\\nSDE Student\\nJune 2023\\xa0-\\xa0June 2023\\xa0(1 month)\\nYoung Achievers Foundation Ghana\\nProgram Specialist\\nJune 2021\\xa0-\\xa0July 2022\\xa0(1 year 2 months)\\nKumasi, Ashanti, Ghana\\n\\xa0 Page 2 of 3\\xa0 \\xa0\\nEducation\\nThayer School of Engineering at Dartmouth\\nBachelor of Engineering - BE\\xa0\\xa0·\\xa0(September 2024\\xa0-\\xa0June 2026)\\nDartmouth College\\nBachelor's degree,\\xa0Engineering\\xa0·\\xa0(September 2022\\xa0-\\xa0January 2026)\\nThe Chinese University of Hong Kong\\nBachelor's degree\\xa0\\xa0·\\xa0(August 2024\\xa0-\\xa0December 2024)\\nOpoku Ware School\\nWest African Senior School Certificate\\xa0\\xa0·\\xa0(October 2016\\xa0-\\xa0June 2019)\\nSaint Lwanga Junior High School\\nBasic Education Certificate \\xa0\\xa0·\\xa0(September 2013\\xa0-\\xa0June 2016)\\n\\xa0 Page 3 of 3\\n\\nWith this context, please chat with the user, always staying in character as Christian.\""
      ]
     },
     "execution_count": 8,
     "metadata": {},
     "output_type": "execute_result"
    }
   ],
   "source": [
    "system_prompt"
   ]
  },
  {
   "cell_type": "code",
   "execution_count": 9,
   "metadata": {},
   "outputs": [],
   "source": [
    "def chat(message, history):\n",
    "    messages = [{\"role\": \"system\", \"content\": system_prompt}] + history + [{\"role\": \"user\", \"content\": message}]\n",
    "    response = openai.chat.completions.create(model=\"gpt-4o-mini\", messages=messages)\n",
    "    return response.choices[0].message.content"
   ]
  },
  {
   "cell_type": "markdown",
   "metadata": {},
   "source": [
    "## Special note for people not using OpenAI\n",
    "\n",
    "Some providers, like Groq, might give an error when you send your second message in the chat.\n",
    "\n",
    "This is because Gradio shoves some extra fields into the history object. OpenAI doesn't mind; but some other models complain.\n",
    "\n",
    "If this happens, the solution is to add this first line to the chat() function above. It cleans up the history variable:\n",
    "\n",
    "```python\n",
    "history = [{\"role\": h[\"role\"], \"content\": h[\"content\"]} for h in history]\n",
    "```\n",
    "\n",
    "You may need to add this in other chat() callback functions in the future, too."
   ]
  },
  {
   "cell_type": "code",
   "execution_count": 11,
   "metadata": {},
   "outputs": [
    {
     "name": "stdout",
     "output_type": "stream",
     "text": [
      "* Running on local URL:  http://127.0.0.1:7861\n",
      "* To create a public link, set `share=True` in `launch()`.\n"
     ]
    },
    {
     "data": {
      "text/html": [
       "<div><iframe src=\"http://127.0.0.1:7861/\" width=\"100%\" height=\"500\" allow=\"autoplay; camera; microphone; clipboard-read; clipboard-write;\" frameborder=\"0\" allowfullscreen></iframe></div>"
      ],
      "text/plain": [
       "<IPython.core.display.HTML object>"
      ]
     },
     "metadata": {},
     "output_type": "display_data"
    },
    {
     "data": {
      "text/plain": []
     },
     "execution_count": 11,
     "metadata": {},
     "output_type": "execute_result"
    }
   ],
   "source": [
    "gr.ChatInterface(chat, type=\"messages\").launch()"
   ]
  },
  {
   "cell_type": "markdown",
   "metadata": {},
   "source": [
    "## A lot is about to happen...\n",
    "\n",
    "1. Be able to ask an LLM to evaluate an answer\n",
    "2. Be able to rerun if the answer fails evaluation\n",
    "3. Put this together into 1 workflow\n",
    "\n",
    "All without any Agentic framework!"
   ]
  },
  {
   "cell_type": "code",
   "execution_count": 12,
   "metadata": {},
   "outputs": [],
   "source": [
    "# Create a Pydantic model for the Evaluation\n",
    "\n",
    "from pydantic import BaseModel\n",
    "\n",
    "class Evaluation(BaseModel):\n",
    "    is_acceptable: bool\n",
    "    feedback: str\n"
   ]
  },
  {
   "cell_type": "code",
   "execution_count": 14,
   "metadata": {},
   "outputs": [],
   "source": [
    "evaluator_system_prompt = f\"You are an evaluator that decides whether a response to a question is acceptable. \\\n",
    "You are provided with a conversation between a User and an Agent. Your task is to decide whether the Agent's latest response is acceptable quality. \\\n",
    "The Agent is playing the role of {name} and is representing {name} on their website. \\\n",
    "The Agent has been instructed to be professional and engaging, as if talking to a potential client or future employer who came across the website. \\\n",
    "The Agent has been provided with context on {name} in the form of their summary and LinkedIn details. Here's the information:\"\n",
    "\n",
    "evaluator_system_prompt += f\"\\n\\n## Summary:\\n{summary}\\n\\n## LinkedIn Profile:\\n{linkedin}\\n\\n\"\n",
    "evaluator_system_prompt += f\"With this context, please evaluate the latest response, replying with whether the response is acceptable and your feedback.\""
   ]
  },
  {
   "cell_type": "code",
   "execution_count": 15,
   "metadata": {},
   "outputs": [],
   "source": [
    "def evaluator_user_prompt(reply, message, history):\n",
    "    user_prompt = f\"Here's the conversation between the User and the Agent: \\n\\n{history}\\n\\n\"\n",
    "    user_prompt += f\"Here's the latest message from the User: \\n\\n{message}\\n\\n\"\n",
    "    user_prompt += f\"Here's the latest response from the Agent: \\n\\n{reply}\\n\\n\"\n",
    "    user_prompt += \"Please evaluate the response, replying with whether it is acceptable and your feedback.\"\n",
    "    return user_prompt"
   ]
  },
  {
   "cell_type": "code",
   "execution_count": 16,
   "metadata": {},
   "outputs": [],
   "source": [
    "import os\n",
    "gemini = OpenAI(\n",
    "    api_key=os.getenv(\"GOOGLE_API_KEY\"), \n",
    "    base_url=\"https://generativelanguage.googleapis.com/v1beta/openai/\"\n",
    ")"
   ]
  },
  {
   "cell_type": "code",
   "execution_count": 17,
   "metadata": {},
   "outputs": [],
   "source": [
    "def evaluate(reply, message, history) -> Evaluation:\n",
    "\n",
    "    messages = [{\"role\": \"system\", \"content\": evaluator_system_prompt}] + [{\"role\": \"user\", \"content\": evaluator_user_prompt(reply, message, history)}]\n",
    "    response = gemini.beta.chat.completions.parse(model=\"gemini-2.0-flash\", messages=messages, response_format=Evaluation)\n",
    "    return response.choices[0].message.parsed"
   ]
  },
  {
   "cell_type": "code",
   "execution_count": 18,
   "metadata": {},
   "outputs": [],
   "source": [
    "messages = [{\"role\": \"system\", \"content\": system_prompt}] + [{\"role\": \"user\", \"content\": \"do you hold a patent?\"}]\n",
    "response = openai.chat.completions.create(model=\"gpt-4o-mini\", messages=messages)\n",
    "reply = response.choices[0].message.content"
   ]
  },
  {
   "cell_type": "code",
   "execution_count": 19,
   "metadata": {},
   "outputs": [
    {
     "data": {
      "text/plain": [
       "'As of now, I do not hold a patent. However, I am deeply engaged in projects that explore innovative solutions at the intersection of AI, accessibility, and design. If I pursue any ideas that could potentially lead to a patent in the future, I’ll definitely keep that in mind. If you have any specific ideas or projects you want to discuss, feel free to share!'"
      ]
     },
     "execution_count": 19,
     "metadata": {},
     "output_type": "execute_result"
    }
   ],
   "source": [
    "reply"
   ]
  },
  {
   "cell_type": "code",
   "execution_count": 20,
   "metadata": {},
   "outputs": [
    {
     "data": {
      "text/plain": [
       "Evaluation(is_acceptable=True, feedback=\"The response is good. It's a clear and concise answer to the question. It also leaves the door open for further conversation, which is a good way to keep the user engaged.\")"
      ]
     },
     "execution_count": 20,
     "metadata": {},
     "output_type": "execute_result"
    }
   ],
   "source": [
    "evaluate(reply, \"do you hold a patent?\", messages[:1])"
   ]
  },
  {
   "cell_type": "code",
   "execution_count": 21,
   "metadata": {},
   "outputs": [],
   "source": [
    "def rerun(reply, message, history, feedback):\n",
    "    updated_system_prompt = system_prompt + \"\\n\\n## Previous answer rejected\\nYou just tried to reply, but the quality control rejected your reply\\n\"\n",
    "    updated_system_prompt += f\"## Your attempted answer:\\n{reply}\\n\\n\"\n",
    "    updated_system_prompt += f\"## Reason for rejection:\\n{feedback}\\n\\n\"\n",
    "    messages = [{\"role\": \"system\", \"content\": updated_system_prompt}] + history + [{\"role\": \"user\", \"content\": message}]\n",
    "    response = openai.chat.completions.create(model=\"gpt-4o-mini\", messages=messages)\n",
    "    return response.choices[0].message.content"
   ]
  },
  {
   "cell_type": "code",
   "execution_count": 22,
   "metadata": {},
   "outputs": [],
   "source": [
    "def chat(message, history):\n",
    "    if \"patent\" in message:\n",
    "        system = system_prompt + \"\\n\\nEverything in your reply needs to be in pig latin - \\\n",
    "              it is mandatory that you respond only and entirely in pig latin\"\n",
    "    else:\n",
    "        system = system_prompt\n",
    "    messages = [{\"role\": \"system\", \"content\": system}] + history + [{\"role\": \"user\", \"content\": message}]\n",
    "    response = openai.chat.completions.create(model=\"gpt-4o-mini\", messages=messages)\n",
    "    reply =response.choices[0].message.content\n",
    "\n",
    "    evaluation = evaluate(reply, message, history)\n",
    "    \n",
    "    if evaluation.is_acceptable:\n",
    "        print(\"Passed evaluation - returning reply\")\n",
    "    else:\n",
    "        print(\"Failed evaluation - retrying\")\n",
    "        print(evaluation.feedback)\n",
    "        reply = rerun(reply, message, history, evaluation.feedback)       \n",
    "    return reply"
   ]
  },
  {
   "cell_type": "code",
   "execution_count": 10,
   "metadata": {},
   "outputs": [
    {
     "name": "stdout",
     "output_type": "stream",
     "text": [
      "* Running on local URL:  http://127.0.0.1:7860\n",
      "* To create a public link, set `share=True` in `launch()`.\n"
     ]
    },
    {
     "data": {
      "text/html": [
       "<div><iframe src=\"http://127.0.0.1:7860/\" width=\"100%\" height=\"500\" allow=\"autoplay; camera; microphone; clipboard-read; clipboard-write;\" frameborder=\"0\" allowfullscreen></iframe></div>"
      ],
      "text/plain": [
       "<IPython.core.display.HTML object>"
      ]
     },
     "metadata": {},
     "output_type": "display_data"
    },
    {
     "data": {
      "text/plain": []
     },
     "execution_count": 10,
     "metadata": {},
     "output_type": "execute_result"
    }
   ],
   "source": [
    "gr.ChatInterface(chat, type=\"messages\").launch()"
   ]
  },
  {
   "cell_type": "markdown",
   "metadata": {},
   "source": []
  },
  {
   "cell_type": "code",
   "execution_count": null,
   "metadata": {},
   "outputs": [],
   "source": []
  }
 ],
 "metadata": {
  "kernelspec": {
   "display_name": ".venv",
   "language": "python",
   "name": "python3"
  },
  "language_info": {
   "codemirror_mode": {
    "name": "ipython",
    "version": 3
   },
   "file_extension": ".py",
   "mimetype": "text/x-python",
   "name": "python",
   "nbconvert_exporter": "python",
   "pygments_lexer": "ipython3",
   "version": "3.12.4"
  }
 },
 "nbformat": 4,
 "nbformat_minor": 2
}
